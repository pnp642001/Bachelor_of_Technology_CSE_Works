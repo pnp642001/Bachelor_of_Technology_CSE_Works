{
 "cells": [
  {
   "cell_type": "markdown",
   "metadata": {},
   "source": [
    "Programming ---> set of instruction Language ------> set of rule , syntax\n",
    "\n",
    "Interpreter & compiler ----> Hll to covert to LLL\n",
    "\n",
    "Python is interpreted language\n",
    "\n",
    "Python Idle -----> Integrated Development Enviorment\n",
    "\n",
    "1. Make file & write code and run file\n",
    "2. And shell.\n",
    "\n",
    "Anaconda Jyputer-notebook Jupyterlab python shell spyder "
   ]
  },
  {
   "cell_type": "markdown",
   "metadata": {},
   "source": [
    "# Some Common Command\n",
    "Esc + y -----> Code Mode Esc + m -----> Markdown Esc + r -----> Raw Nb Esc + dd -----> Del Raw\n",
    "\n",
    "esc + h ----> all Commnds & shortcut esc + a ----> insert above raw esc + b -----> insert raw below Shift + enter -----> run prog.\n",
    "\n",
    "Jupyter Notebok ----> Interface"
   ]
  },
  {
   "cell_type": "markdown",
   "metadata": {},
   "source": [
    "# Datatypes\n",
    "Types of data (Anything raw fact or fig.)\n",
    "\n",
    "1. Number\n",
    "2. Strings\n",
    "3. List\n",
    "4. Tuple\n",
    "5. Dictionry\n",
    "6. Sets"
   ]
  },
  {
   "cell_type": "code",
   "execution_count": 1,
   "metadata": {},
   "outputs": [],
   "source": [
    "name=\"Parth\""
   ]
  },
  {
   "cell_type": "code",
   "execution_count": 2,
   "metadata": {},
   "outputs": [
    {
     "data": {
      "text/plain": [
       "'Parth'"
      ]
     },
     "execution_count": 2,
     "metadata": {},
     "output_type": "execute_result"
    }
   ],
   "source": [
    "name"
   ]
  },
  {
   "cell_type": "code",
   "execution_count": 3,
   "metadata": {},
   "outputs": [
    {
     "data": {
      "text/plain": [
       "str"
      ]
     },
     "execution_count": 3,
     "metadata": {},
     "output_type": "execute_result"
    }
   ],
   "source": [
    "type(name)"
   ]
  },
  {
   "cell_type": "code",
   "execution_count": 5,
   "metadata": {},
   "outputs": [
    {
     "name": "stdout",
     "output_type": "stream",
     "text": [
      "30\n"
     ]
    }
   ],
   "source": [
    "a=10 \n",
    "b=20\n",
    "print(a+b)"
   ]
  },
  {
   "cell_type": "code",
   "execution_count": 6,
   "metadata": {},
   "outputs": [
    {
     "name": "stdout",
     "output_type": "stream",
     "text": [
      "Enter the value of : 10\n",
      "Enter the value of : 20\n",
      "30\n"
     ]
    }
   ],
   "source": [
    "a = int(input(\"Enter the value of : \"))\n",
    "b = int(input(\"Enter the value of : \"))\n",
    "print(a+b)"
   ]
  },
  {
   "cell_type": "code",
   "execution_count": null,
   "metadata": {},
   "outputs": [],
   "source": []
  }
 ],
 "metadata": {
  "kernelspec": {
   "display_name": "Python 3",
   "language": "python",
   "name": "python3"
  },
  "language_info": {
   "codemirror_mode": {
    "name": "ipython",
    "version": 3
   },
   "file_extension": ".py",
   "mimetype": "text/x-python",
   "name": "python",
   "nbconvert_exporter": "python",
   "pygments_lexer": "ipython3",
   "version": "3.8.5"
  }
 },
 "nbformat": 4,
 "nbformat_minor": 4
}
